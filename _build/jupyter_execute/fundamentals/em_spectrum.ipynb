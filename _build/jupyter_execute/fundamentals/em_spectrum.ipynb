{
 "cells": [
  {
   "cell_type": "markdown",
   "id": "d741b24b-f965-4aea-9fab-f94350797acc",
   "metadata": {},
   "source": [
    "# The Electromagnetic Spectrum"
   ]
  },
  {
   "cell_type": "markdown",
   "id": "30ef7499-a467-41e6-b18b-183aee1c09d5",
   "metadata": {},
   "source": [
    "Remote sensing of the ocean is primarily focused with the observation of electromagnetic information going to and coming from the ocean surface. With the exception of gravimetry, all other remotely-sensed observations of the ocean use at least one portion of the electromagnetic spectrum. \n",
    "\n",
    "In this page, we describe the nature of light and outline the various components on the electromagnetic spectrum."
   ]
  },
  {
   "cell_type": "code",
   "execution_count": 1,
   "id": "35853019-f77b-4f33-ad37-f1ba437ae3ac",
   "metadata": {},
   "outputs": [],
   "source": [
    "import numpy as np\n",
    "import matplotlib.pyplot as plt"
   ]
  },
  {
   "cell_type": "markdown",
   "id": "0c14bb0c-6d82-468a-a149-8e23a517289a",
   "metadata": {},
   "source": [
    "## The Duality of Light"
   ]
  },
  {
   "cell_type": "markdown",
   "id": "b4af7b51-23df-4066-96d7-747e7cd53cdf",
   "metadata": {},
   "source": [
    "Under Construction."
   ]
  },
  {
   "cell_type": "markdown",
   "id": "f5572c18-b7ff-4295-a0de-d78153b4f8e1",
   "metadata": {},
   "source": [
    "## The Electromagnetic Spectrum"
   ]
  },
  {
   "cell_type": "markdown",
   "id": "ae5bbba7-b723-4bc4-8fe0-575c159ff7aa",
   "metadata": {},
   "source": [
    "```{image} ../images/em_spectrum.png\n",
    ":alt: The Electromagnetic Spectrum\n",
    ":align: center\n",
    "```"
   ]
  },
  {
   "cell_type": "code",
   "execution_count": null,
   "id": "445ecca1-99ac-4d30-acba-c6d58455bb31",
   "metadata": {},
   "outputs": [],
   "source": []
  }
 ],
 "metadata": {
  "kernelspec": {
   "display_name": "ms274",
   "language": "python",
   "name": "ms274"
  },
  "language_info": {
   "codemirror_mode": {
    "name": "ipython",
    "version": 3
   },
   "file_extension": ".py",
   "mimetype": "text/x-python",
   "name": "python",
   "nbconvert_exporter": "python",
   "pygments_lexer": "ipython3",
   "version": "3.10.12"
  }
 },
 "nbformat": 4,
 "nbformat_minor": 5
}
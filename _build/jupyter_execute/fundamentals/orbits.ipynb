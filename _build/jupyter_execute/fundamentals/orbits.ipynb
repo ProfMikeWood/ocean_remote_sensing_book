{
 "cells": [
  {
   "cell_type": "markdown",
   "id": "d741b24b-f965-4aea-9fab-f94350797acc",
   "metadata": {},
   "source": [
    "# Orbits"
   ]
  },
  {
   "cell_type": "markdown",
   "id": "30ef7499-a467-41e6-b18b-183aee1c09d5",
   "metadata": {},
   "source": [
    "The parameters of a satellite's orbits determines a lot about the measurements it can make. Two of the key parameters for an orbit are it's inclination and its altitude."
   ]
  },
  {
   "cell_type": "markdown",
   "id": "71cc240e-3c64-4603-b142-65e33a7ffce2",
   "metadata": {},
   "source": [
    "## Inclination\n",
    "The inclination of an orbit is an angle that it makes with the equator. One of the main results of the inclination is the maximum latitude the satellite track will cover on the planet - a higher inclination will reach higher amplitudes.\n",
    "\n",
    "Orbits with a positive inclination (0$^{\\circ}$ to 90$^{\\circ}$) are called *prograde* orbits and the satellite will travel in the same direction as the Earth rotates. By contrast, orbits with a negative inclination (0$^{\\circ}$ to -90$^{\\circ}$) are *retrograde* orbits and travel in the opposite direction as the Earth rotates. We can visualize these orbits in an orthographic projection in the following image:\n",
    "\n",
    "```{image} ../images/orbits_orthographic.png\n",
    ":alt: Orbits in an Orthographic projection\n",
    ":align: center\n",
    "```\n",
    "These same orbits trace out the following paths in a Plate Carree projection:\n",
    "\n",
    "```{image} ../images/orbits_platecarree.png\n",
    ":alt: Orbits in an Plate Caree projection\n",
    ":align: center\n",
    "```\n",
    "\n",
    "The blue orbits in these plots have inclinations of $\\pm$51.6$^{\\circ}$ while the green orbits have inclinations of $\\pm$88$^{\\circ}$. These inclinations represent the prograde orbit of the International Space Station (ISS) and the retrograde orbit of the ICESat-2 satellite. The ISS maintains a shallow orbit to fly over most of the populated areas of the planet; the ICESat-2 satellite mains a near-polar orbit to cover the majority of the ice-covered regions of the poles."
   ]
  }
 ],
 "metadata": {
  "kernelspec": {
   "display_name": "ms274",
   "language": "python",
   "name": "ms274"
  },
  "language_info": {
   "codemirror_mode": {
    "name": "ipython",
    "version": 3
   },
   "file_extension": ".py",
   "mimetype": "text/x-python",
   "name": "python",
   "nbconvert_exporter": "python",
   "pygments_lexer": "ipython3",
   "version": "3.10.12"
  }
 },
 "nbformat": 4,
 "nbformat_minor": 5
}
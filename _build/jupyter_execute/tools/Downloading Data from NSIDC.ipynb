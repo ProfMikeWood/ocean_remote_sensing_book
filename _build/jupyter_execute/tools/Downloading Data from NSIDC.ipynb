{
 "cells": [
  {
   "cell_type": "markdown",
   "id": "34989e05-15a5-4759-9930-54d255ed56ff",
   "metadata": {},
   "source": [
    "# Downloading Sea Ice Data from NSIDC\n",
    "\n",
    "This notebook is designed to download sea ice data concentration data, available at https://nsidc.org/data/g02202/versions/4\n",
    "\n",
    "#### Import the modules for this notebook"
   ]
  },
  {
   "cell_type": "code",
   "execution_count": 1,
   "id": "3cb9f554-076d-4cf0-91cb-a6d7b2a79b71",
   "metadata": {},
   "outputs": [],
   "source": [
    "import requests\n",
    "import os"
   ]
  },
  {
   "cell_type": "markdown",
   "id": "c1c8b363-a895-4915-8d2e-99ce04b1e3b6",
   "metadata": {},
   "source": [
    "#### Define the destination file path"
   ]
  },
  {
   "cell_type": "code",
   "execution_count": 2,
   "id": "67398b75-f002-4f0b-aca3-30b7eeefca33",
   "metadata": {},
   "outputs": [],
   "source": [
    "# define the path to the folder where the data will be downloaded\n",
    "download_folder = ''"
   ]
  },
  {
   "cell_type": "markdown",
   "id": "1cdc1404-0fc7-4a17-8c1d-10b7a9c2da73",
   "metadata": {},
   "source": [
    "#### Make a list of file paths"
   ]
  },
  {
   "cell_type": "code",
   "execution_count": 3,
   "id": "e1033587-6ec6-4689-a70e-2072a45236f3",
   "metadata": {},
   "outputs": [],
   "source": [
    "# hemisphere and hemisphere code\n",
    "hemisphere = 'north'\n",
    "hemisphere_code = 'nh'\n",
    "\n",
    "# initial satellite code\n",
    "sat_code = 'n07'\n",
    "\n",
    "# define the base url\n",
    "base_url = 'https://noaadata.apps.nsidc.org/NOAA/G02202_V4/'+hemisphere+'/monthly/'\n",
    "\n",
    "# make a list of URls corresponding to the file date\n",
    "file_urls = []\n",
    "for year in range(1979,2023):\n",
    "    for month in range(1,13):\n",
    "\n",
    "        # update satellite code when different satellites are used\n",
    "        if year==1987 and month==8:\n",
    "            sat_code = 'f08'\n",
    "        if year==1992 and month==1:\n",
    "            sat_code = 'f11'\n",
    "        if year==1995 and month==10:\n",
    "            sat_code = 'f13'\n",
    "        if year==2008 and month==1:\n",
    "            sat_code = 'f17'\n",
    "        \n",
    "        yr = str(year)\n",
    "        mo = '{:02d}'.format(month)\n",
    "        file_name = 'seaice_conc_monthly_'+hemisphere_code+'_'+yr+mo+'_'+sat_code+'_v04r00.nc'\n",
    "        file_urls.append(base_url+'/'+file_name)"
   ]
  },
  {
   "cell_type": "markdown",
   "id": "85042999-7368-410c-9426-167e894959e9",
   "metadata": {},
   "source": [
    "#### Download the data"
   ]
  },
  {
   "cell_type": "code",
   "execution_count": 4,
   "id": "19c0e188-105c-4578-8cb8-459a2d70848c",
   "metadata": {},
   "outputs": [
    {
     "ename": "FileNotFoundError",
     "evalue": "[Errno 2] No such file or directory: ''",
     "output_type": "error",
     "traceback": [
      "\u001b[0;31m---------------------------------------------------------------------------\u001b[0m",
      "\u001b[0;31mFileNotFoundError\u001b[0m                         Traceback (most recent call last)",
      "Cell \u001b[0;32mIn[4], line 5\u001b[0m\n\u001b[1;32m      2\u001b[0m url \u001b[38;5;241m=\u001b[39m file_urls[i]\n\u001b[1;32m      4\u001b[0m file_name \u001b[38;5;241m=\u001b[39m url\u001b[38;5;241m.\u001b[39msplit(\u001b[38;5;124m'\u001b[39m\u001b[38;5;124m/\u001b[39m\u001b[38;5;124m'\u001b[39m)[\u001b[38;5;241m-\u001b[39m\u001b[38;5;241m1\u001b[39m]\n\u001b[0;32m----> 5\u001b[0m \u001b[38;5;28;01mif\u001b[39;00m file_name \u001b[38;5;129;01mnot\u001b[39;00m \u001b[38;5;129;01min\u001b[39;00m \u001b[43mos\u001b[49m\u001b[38;5;241;43m.\u001b[39;49m\u001b[43mlistdir\u001b[49m\u001b[43m(\u001b[49m\u001b[43mdownload_folder\u001b[49m\u001b[43m)\u001b[49m:\n\u001b[1;32m      7\u001b[0m     \u001b[38;5;28mprint\u001b[39m(\u001b[38;5;124m'\u001b[39m\u001b[38;5;124mDownloading \u001b[39m\u001b[38;5;124m'\u001b[39m\u001b[38;5;241m+\u001b[39mfile_name\u001b[38;5;241m+\u001b[39m\u001b[38;5;124m'\u001b[39m\u001b[38;5;124m (file \u001b[39m\u001b[38;5;124m'\u001b[39m\u001b[38;5;241m+\u001b[39m\u001b[38;5;28mstr\u001b[39m(i\u001b[38;5;241m+\u001b[39m\u001b[38;5;241m1\u001b[39m)\u001b[38;5;241m+\u001b[39m\u001b[38;5;124m'\u001b[39m\u001b[38;5;124m of \u001b[39m\u001b[38;5;124m'\u001b[39m\u001b[38;5;241m+\u001b[39m\u001b[38;5;28mstr\u001b[39m(\u001b[38;5;28mlen\u001b[39m(file_urls))\u001b[38;5;241m+\u001b[39m\u001b[38;5;124m'\u001b[39m\u001b[38;5;124m)\u001b[39m\u001b[38;5;124m'\u001b[39m)\n\u001b[1;32m      9\u001b[0m     output_file \u001b[38;5;241m=\u001b[39m os\u001b[38;5;241m.\u001b[39mpath\u001b[38;5;241m.\u001b[39mjoin(download_folder,file_name)\n",
      "\u001b[0;31mFileNotFoundError\u001b[0m: [Errno 2] No such file or directory: ''"
     ]
    }
   ],
   "source": [
    "for i in range(len(file_urls)):\n",
    "    url = file_urls[i]\n",
    "    \n",
    "    file_name = url.split('/')[-1]\n",
    "    if file_name not in os.listdir(download_folder):\n",
    "    \n",
    "        print('Downloading '+file_name+' (file '+str(i+1)+' of '+str(len(file_urls))+')')\n",
    "    \n",
    "        output_file = os.path.join(download_folder,file_name)\n",
    "    \n",
    "        with requests.get(url, stream=True, allow_redirects=True) as r:\n",
    "            r.raise_for_status()\n",
    "            with open(output_file, 'wb') as f:                   \n",
    "                for chunk in r.iter_content(chunk_size=8192):   \n",
    "                    f.write(chunk)"
   ]
  }
 ],
 "metadata": {
  "kernelspec": {
   "display_name": "ms274",
   "language": "python",
   "name": "ms274"
  },
  "language_info": {
   "codemirror_mode": {
    "name": "ipython",
    "version": 3
   },
   "file_extension": ".py",
   "mimetype": "text/x-python",
   "name": "python",
   "nbconvert_exporter": "python",
   "pygments_lexer": "ipython3",
   "version": "3.10.12"
  }
 },
 "nbformat": 4,
 "nbformat_minor": 5
}
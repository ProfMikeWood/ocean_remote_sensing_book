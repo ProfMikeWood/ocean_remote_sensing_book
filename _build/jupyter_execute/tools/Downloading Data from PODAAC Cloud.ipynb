{
 "cells": [
  {
   "cell_type": "markdown",
   "id": "34989e05-15a5-4759-9930-54d255ed56ff",
   "metadata": {},
   "source": [
    "# Downloading Data from PODAAC\n",
    "This notebook provides the functionality to download a set of files from JPL's Physical Oceanography DAAC. Info detailing how these scripts work can be found on the github page here: https://github.com/podaac/data-subscriber/tree/main\n",
    "\n",
    "### Import the modules used in this notebook"
   ]
  },
  {
   "cell_type": "code",
   "execution_count": 1,
   "id": "3cb9f554-076d-4cf0-91cb-a6d7b2a79b71",
   "metadata": {},
   "outputs": [],
   "source": [
    "import requests\n",
    "import os\n",
    "from subscriber import podaac_data_downloader as pdd\n",
    "from subscriber import podaac_access as pa\n",
    "import argparse"
   ]
  },
  {
   "cell_type": "markdown",
   "id": "2ca1a568-db05-43a6-9855-6d4ae4e9bf1a",
   "metadata": {},
   "source": [
    "### User Inputs\n",
    "Edit this section to define your search query."
   ]
  },
  {
   "cell_type": "code",
   "execution_count": 2,
   "id": "67398b75-f002-4f0b-aca3-30b7eeefca33",
   "metadata": {},
   "outputs": [],
   "source": [
    "# define an output folder\n",
    "data_path = '/Users/mike/Documents/Teaching/Courses/MS 274/Labs/Lab 7/Raster Data'\n",
    "\n",
    "# define a collection e.g.:\n",
    "# MUR SST: MUR25-JPL-L4-GLOB-v04.2\n",
    "# SMAP SSS: SMAP_JPL_L3_SSS_CAP_MONTHLY_V5\n",
    "short_name = 'SMAP_JPL_L3_SSS_CAP_MONTHLY_V5'\n",
    "\n",
    "# define a start time\n",
    "# must be in this format:\n",
    "start_date_time = '2018-01-01T00:00:00Z'\n",
    "\n",
    "# define a start time\n",
    "# must be in this format:\n",
    "end_date_time = '2019-12-31T00:00:00Z'"
   ]
  },
  {
   "cell_type": "markdown",
   "id": "bbb87e58-ed5a-43ff-887b-d77634099782",
   "metadata": {},
   "source": [
    "### Creating the Download Arguments\n",
    "No need to edit this section - just run the cell"
   ]
  },
  {
   "cell_type": "code",
   "execution_count": 3,
   "id": "3220dc54-ada5-4a9e-ba28-aaccf2e0508e",
   "metadata": {},
   "outputs": [],
   "source": [
    "# create a parser object from the \n",
    "parser = pdd.create_parser()\n",
    "args = parser.parse_args(['-c',short_name, '-d',data_path,\n",
    "                          '-sd',start_date_time, '-ed',end_date_time])"
   ]
  },
  {
   "cell_type": "markdown",
   "id": "388bb477-7ce0-4b4f-8671-ff70f2045dfa",
   "metadata": {},
   "source": [
    "### Run the downloading script\n",
    "The `run` method will download the files found in the PODAAC database. Nothing will print in the Jupyter notebook but the files will show up in the download folder you created above."
   ]
  },
  {
   "cell_type": "code",
   "execution_count": 4,
   "id": "39968864-ab6a-4495-83e3-ce040d85b42a",
   "metadata": {},
   "outputs": [
    {
     "name": "stderr",
     "output_type": "stream",
     "text": [
      "WARNING:root:Error getting the token - check user name and password\n",
      "Traceback (most recent call last):\n",
      "  File \"/Users/mike/opt/anaconda3/envs/ms274/lib/python3.10/site-packages/subscriber/podaac_access.py\", line 168, in list_tokens\n",
      "    tokens.append(x['access_token'])\n",
      "TypeError: string indices must be integers\n"
     ]
    },
    {
     "name": "stderr",
     "output_type": "stream",
     "text": [
      "WARNING:root:Error getting the token - check user name and password\n",
      "Traceback (most recent call last):\n",
      "  File \"/Users/mike/opt/anaconda3/envs/ms274/lib/python3.10/site-packages/subscriber/podaac_access.py\", line 128, in create_token\n",
      "    token = response_content['access_token']\n",
      "KeyError: 'access_token'\n"
     ]
    },
    {
     "name": "stderr",
     "output_type": "stream",
     "text": [
      "WARNING:root:Error getting the token - check user name and password\n",
      "Traceback (most recent call last):\n",
      "  File \"/Users/mike/opt/anaconda3/envs/ms274/lib/python3.10/site-packages/subscriber/podaac_access.py\", line 128, in create_token\n",
      "    token = response_content['access_token']\n",
      "KeyError: 'access_token'\n"
     ]
    },
    {
     "name": "stderr",
     "output_type": "stream",
     "text": [
      "WARNING:root:Error getting the token - check user name and password\n",
      "Traceback (most recent call last):\n",
      "  File \"/Users/mike/opt/anaconda3/envs/ms274/lib/python3.10/site-packages/subscriber/podaac_access.py\", line 128, in create_token\n",
      "    token = response_content['access_token']\n",
      "KeyError: 'access_token'\n"
     ]
    },
    {
     "ename": "RetryError",
     "evalue": "RetryError[<Future at 0x10f3df310 state=finished returned str>]",
     "output_type": "error",
     "traceback": [
      "\u001b[0;31m---------------------------------------------------------------------------\u001b[0m",
      "\u001b[0;31mRetryError\u001b[0m                                Traceback (most recent call last)",
      "Cell \u001b[0;32mIn[4], line 2\u001b[0m\n\u001b[1;32m      1\u001b[0m \u001b[38;5;66;03m# run the downloading script\u001b[39;00m\n\u001b[0;32m----> 2\u001b[0m \u001b[43mpdd\u001b[49m\u001b[38;5;241;43m.\u001b[39;49m\u001b[43mrun\u001b[49m\u001b[43m(\u001b[49m\u001b[43margs\u001b[49m\u001b[43m)\u001b[49m\n",
      "File \u001b[0;32m~/opt/anaconda3/envs/ms274/lib/python3.10/site-packages/subscriber/podaac_data_downloader.py:136\u001b[0m, in \u001b[0;36mrun\u001b[0;34m(args)\u001b[0m\n\u001b[1;32m    133\u001b[0m     exit(\u001b[38;5;241m1\u001b[39m)\n\u001b[1;32m    135\u001b[0m pa\u001b[38;5;241m.\u001b[39msetup_earthdata_login_auth(edl)\n\u001b[0;32m--> 136\u001b[0m token \u001b[38;5;241m=\u001b[39m \u001b[43mpa\u001b[49m\u001b[38;5;241;43m.\u001b[39;49m\u001b[43mget_token\u001b[49m\u001b[43m(\u001b[49m\u001b[43mtoken_url\u001b[49m\u001b[43m)\u001b[49m\n\u001b[1;32m    138\u001b[0m provider \u001b[38;5;241m=\u001b[39m args\u001b[38;5;241m.\u001b[39mprovider\n\u001b[1;32m    139\u001b[0m start_date_time \u001b[38;5;241m=\u001b[39m args\u001b[38;5;241m.\u001b[39mstartDate\n",
      "File \u001b[0;32m~/opt/anaconda3/envs/ms274/lib/python3.10/site-packages/subscriber/podaac_access.py:102\u001b[0m, in \u001b[0;36mget_token\u001b[0;34m(url)\u001b[0m\n\u001b[1;32m    100\u001b[0m tokens \u001b[38;5;241m=\u001b[39m list_tokens(url)\n\u001b[1;32m    101\u001b[0m \u001b[38;5;28;01mif\u001b[39;00m \u001b[38;5;28mlen\u001b[39m(tokens) \u001b[38;5;241m==\u001b[39m \u001b[38;5;241m0\u001b[39m :\n\u001b[0;32m--> 102\u001b[0m     \u001b[38;5;28;01mreturn\u001b[39;00m \u001b[43mcreate_token\u001b[49m\u001b[43m(\u001b[49m\u001b[43murl\u001b[49m\u001b[43m)\u001b[49m\n\u001b[1;32m    103\u001b[0m \u001b[38;5;28;01melse\u001b[39;00m:\n\u001b[1;32m    104\u001b[0m     \u001b[38;5;28;01mreturn\u001b[39;00m tokens[\u001b[38;5;241m0\u001b[39m]\n",
      "File \u001b[0;32m~/opt/anaconda3/envs/ms274/lib/python3.10/site-packages/tenacity/__init__.py:289\u001b[0m, in \u001b[0;36mBaseRetrying.wraps.<locals>.wrapped_f\u001b[0;34m(*args, **kw)\u001b[0m\n\u001b[1;32m    287\u001b[0m \u001b[38;5;129m@functools\u001b[39m\u001b[38;5;241m.\u001b[39mwraps(f)\n\u001b[1;32m    288\u001b[0m \u001b[38;5;28;01mdef\u001b[39;00m \u001b[38;5;21mwrapped_f\u001b[39m(\u001b[38;5;241m*\u001b[39margs: t\u001b[38;5;241m.\u001b[39mAny, \u001b[38;5;241m*\u001b[39m\u001b[38;5;241m*\u001b[39mkw: t\u001b[38;5;241m.\u001b[39mAny) \u001b[38;5;241m-\u001b[39m\u001b[38;5;241m>\u001b[39m t\u001b[38;5;241m.\u001b[39mAny:\n\u001b[0;32m--> 289\u001b[0m     \u001b[38;5;28;01mreturn\u001b[39;00m \u001b[38;5;28;43mself\u001b[39;49m\u001b[43m(\u001b[49m\u001b[43mf\u001b[49m\u001b[43m,\u001b[49m\u001b[43m \u001b[49m\u001b[38;5;241;43m*\u001b[39;49m\u001b[43margs\u001b[49m\u001b[43m,\u001b[49m\u001b[43m \u001b[49m\u001b[38;5;241;43m*\u001b[39;49m\u001b[38;5;241;43m*\u001b[39;49m\u001b[43mkw\u001b[49m\u001b[43m)\u001b[49m\n",
      "File \u001b[0;32m~/opt/anaconda3/envs/ms274/lib/python3.10/site-packages/tenacity/__init__.py:379\u001b[0m, in \u001b[0;36mRetrying.__call__\u001b[0;34m(self, fn, *args, **kwargs)\u001b[0m\n\u001b[1;32m    377\u001b[0m retry_state \u001b[38;5;241m=\u001b[39m RetryCallState(retry_object\u001b[38;5;241m=\u001b[39m\u001b[38;5;28mself\u001b[39m, fn\u001b[38;5;241m=\u001b[39mfn, args\u001b[38;5;241m=\u001b[39margs, kwargs\u001b[38;5;241m=\u001b[39mkwargs)\n\u001b[1;32m    378\u001b[0m \u001b[38;5;28;01mwhile\u001b[39;00m \u001b[38;5;28;01mTrue\u001b[39;00m:\n\u001b[0;32m--> 379\u001b[0m     do \u001b[38;5;241m=\u001b[39m \u001b[38;5;28;43mself\u001b[39;49m\u001b[38;5;241;43m.\u001b[39;49m\u001b[43miter\u001b[49m\u001b[43m(\u001b[49m\u001b[43mretry_state\u001b[49m\u001b[38;5;241;43m=\u001b[39;49m\u001b[43mretry_state\u001b[49m\u001b[43m)\u001b[49m\n\u001b[1;32m    380\u001b[0m     \u001b[38;5;28;01mif\u001b[39;00m \u001b[38;5;28misinstance\u001b[39m(do, DoAttempt):\n\u001b[1;32m    381\u001b[0m         \u001b[38;5;28;01mtry\u001b[39;00m:\n",
      "File \u001b[0;32m~/opt/anaconda3/envs/ms274/lib/python3.10/site-packages/tenacity/__init__.py:325\u001b[0m, in \u001b[0;36mBaseRetrying.iter\u001b[0;34m(self, retry_state)\u001b[0m\n\u001b[1;32m    323\u001b[0m     retry_exc \u001b[38;5;241m=\u001b[39m \u001b[38;5;28mself\u001b[39m\u001b[38;5;241m.\u001b[39mretry_error_cls(fut)\n\u001b[1;32m    324\u001b[0m     \u001b[38;5;28;01mif\u001b[39;00m \u001b[38;5;28mself\u001b[39m\u001b[38;5;241m.\u001b[39mreraise:\n\u001b[0;32m--> 325\u001b[0m         \u001b[38;5;28;01mraise\u001b[39;00m \u001b[43mretry_exc\u001b[49m\u001b[38;5;241;43m.\u001b[39;49m\u001b[43mreraise\u001b[49m\u001b[43m(\u001b[49m\u001b[43m)\u001b[49m\n\u001b[1;32m    326\u001b[0m     \u001b[38;5;28;01mraise\u001b[39;00m retry_exc \u001b[38;5;28;01mfrom\u001b[39;00m \u001b[38;5;21;01mfut\u001b[39;00m\u001b[38;5;21;01m.\u001b[39;00m\u001b[38;5;21;01mexception\u001b[39;00m()\n\u001b[1;32m    328\u001b[0m \u001b[38;5;28;01mif\u001b[39;00m \u001b[38;5;28mself\u001b[39m\u001b[38;5;241m.\u001b[39mwait:\n",
      "File \u001b[0;32m~/opt/anaconda3/envs/ms274/lib/python3.10/site-packages/tenacity/__init__.py:159\u001b[0m, in \u001b[0;36mRetryError.reraise\u001b[0;34m(self)\u001b[0m\n\u001b[1;32m    157\u001b[0m \u001b[38;5;28;01mif\u001b[39;00m \u001b[38;5;28mself\u001b[39m\u001b[38;5;241m.\u001b[39mlast_attempt\u001b[38;5;241m.\u001b[39mfailed:\n\u001b[1;32m    158\u001b[0m     \u001b[38;5;28;01mraise\u001b[39;00m \u001b[38;5;28mself\u001b[39m\u001b[38;5;241m.\u001b[39mlast_attempt\u001b[38;5;241m.\u001b[39mresult()\n\u001b[0;32m--> 159\u001b[0m \u001b[38;5;28;01mraise\u001b[39;00m \u001b[38;5;28mself\u001b[39m\n",
      "\u001b[0;31mRetryError\u001b[0m: RetryError[<Future at 0x10f3df310 state=finished returned str>]"
     ]
    }
   ],
   "source": [
    "# run the downloading script\n",
    "pdd.run(args)"
   ]
  }
 ],
 "metadata": {
  "kernelspec": {
   "display_name": "ms274",
   "language": "python",
   "name": "ms274"
  },
  "language_info": {
   "codemirror_mode": {
    "name": "ipython",
    "version": 3
   },
   "file_extension": ".py",
   "mimetype": "text/x-python",
   "name": "python",
   "nbconvert_exporter": "python",
   "pygments_lexer": "ipython3",
   "version": "3.10.12"
  }
 },
 "nbformat": 4,
 "nbformat_minor": 5
}
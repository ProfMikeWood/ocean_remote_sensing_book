{
 "cells": [
  {
   "cell_type": "markdown",
   "id": "34989e05-15a5-4759-9930-54d255ed56ff",
   "metadata": {},
   "source": [
    "# Downloading Sea Ice Data from REMSS\n",
    "\n",
    "This notebook is designed to download sea ice data concentration data, available at https://data.remss.com/ccmp/v03.0/\n",
    "\n",
    "#### Import the modules for this notebook"
   ]
  },
  {
   "cell_type": "code",
   "execution_count": 1,
   "id": "3cb9f554-076d-4cf0-91cb-a6d7b2a79b71",
   "metadata": {},
   "outputs": [],
   "source": [
    "import requests\n",
    "import os\n",
    "import datetime as dt"
   ]
  },
  {
   "cell_type": "markdown",
   "id": "c1c8b363-a895-4915-8d2e-99ce04b1e3b6",
   "metadata": {},
   "source": [
    "#### User Inputs\n",
    "Make a path to the download folder and specify the date range"
   ]
  },
  {
   "cell_type": "code",
   "execution_count": 2,
   "id": "67398b75-f002-4f0b-aca3-30b7eeefca33",
   "metadata": {},
   "outputs": [],
   "source": [
    "# define the path to the folder where the data will be downloaded\n",
    "download_folder = '/Users/mike/Documents/Teaching/Courses/MS 274/Data/Wind'\n",
    "\n",
    "# define the start date\n",
    "start_year = 2010\n",
    "start_month = 1\n",
    "start_day = 1\n",
    "\n",
    "# defin the end date\n",
    "end_year = 2020\n",
    "end_month = 1\n",
    "end_day = 31"
   ]
  },
  {
   "cell_type": "markdown",
   "id": "1cdc1404-0fc7-4a17-8c1d-10b7a9c2da73",
   "metadata": {},
   "source": [
    "#### Make a list of file paths"
   ]
  },
  {
   "cell_type": "code",
   "execution_count": 3,
   "id": "e1033587-6ec6-4689-a70e-2072a45236f3",
   "metadata": {},
   "outputs": [],
   "source": [
    "# choose the subset (daily or monthly)\n",
    "subset = 'monthly'\n",
    "\n",
    "# define the base url\n",
    "base_url = 'https://data.remss.com/ccmp/v03.0'\n",
    "\n",
    "# define the date range\n",
    "\n",
    "# make a list of URls corresponding to the file date\n",
    "file_urls = []\n",
    "for year in range(1979,2023):\n",
    "    for month in range(1,13):\n",
    "\n",
    "        if subset=='daily':\n",
    "            if month in [1,3,5,7,8,10,12]:\n",
    "                n_days = 31\n",
    "            elif month in [4,6,9,11]:\n",
    "                n_days = 30\n",
    "            else:\n",
    "                if year%4==0:\n",
    "                    n_days = 29\n",
    "                else:\n",
    "                    n_days = 28\n",
    "                    \n",
    "            for day in range(1,n_days+1):\n",
    "                date = dt.datetime(year, month, day)\n",
    "                if date >= dt.datetime(start_year, start_month, start_day) and date <= dt.datetime(end_year, end_month, end_day):\n",
    "                    yr = str(year)\n",
    "                    mo = '{:02d}'.format(month)\n",
    "                    dy = '{:02d}'.format(day)\n",
    "                    file_name = 'CCMP_Wind_Analysis_'+yr+mo+dy+'_V03.0_L4.0.nc'\n",
    "                    file_urls.append(base_url+'/daily/y'+str(year)+'/m'+mo+'/'+file_name)\n",
    "\n",
    "        elif subset=='monthly':\n",
    "            day=15\n",
    "            date = dt.datetime(year, month, day)\n",
    "            if date >= dt.datetime(start_year, start_month, start_day) and date <= dt.datetime(end_year, end_month, end_day):\n",
    "                yr = str(year)\n",
    "                mo = '{:02d}'.format(month)\n",
    "                file_name = 'CCMP_Wind_Analysis_'+yr+mo+'_V03.0_L4.5.nc'\n",
    "                file_urls.append(base_url+'/monthly/y'+str(year)+'/m'+mo+'/'+file_name)\n",
    "\n",
    "        else:\n",
    "            raise ValueError('subset not recognized')"
   ]
  },
  {
   "cell_type": "markdown",
   "id": "85042999-7368-410c-9426-167e894959e9",
   "metadata": {},
   "source": [
    "#### Download the data"
   ]
  },
  {
   "cell_type": "code",
   "execution_count": 4,
   "id": "19c0e188-105c-4578-8cb8-459a2d70848c",
   "metadata": {},
   "outputs": [
    {
     "ename": "FileNotFoundError",
     "evalue": "[Errno 2] No such file or directory: '/Users/mike/Documents/Teaching/Courses/MS 274/Data/Wind'",
     "output_type": "error",
     "traceback": [
      "\u001b[0;31m---------------------------------------------------------------------------\u001b[0m",
      "\u001b[0;31mFileNotFoundError\u001b[0m                         Traceback (most recent call last)",
      "Cell \u001b[0;32mIn[4], line 5\u001b[0m\n\u001b[1;32m      2\u001b[0m url \u001b[38;5;241m=\u001b[39m file_urls[i]\n\u001b[1;32m      4\u001b[0m file_name \u001b[38;5;241m=\u001b[39m url\u001b[38;5;241m.\u001b[39msplit(\u001b[38;5;124m'\u001b[39m\u001b[38;5;124m/\u001b[39m\u001b[38;5;124m'\u001b[39m)[\u001b[38;5;241m-\u001b[39m\u001b[38;5;241m1\u001b[39m]\n\u001b[0;32m----> 5\u001b[0m \u001b[38;5;28;01mif\u001b[39;00m file_name \u001b[38;5;129;01mnot\u001b[39;00m \u001b[38;5;129;01min\u001b[39;00m \u001b[43mos\u001b[49m\u001b[38;5;241;43m.\u001b[39;49m\u001b[43mlistdir\u001b[49m\u001b[43m(\u001b[49m\u001b[43mdownload_folder\u001b[49m\u001b[43m)\u001b[49m:\n\u001b[1;32m      7\u001b[0m     \u001b[38;5;28mprint\u001b[39m(\u001b[38;5;124m'\u001b[39m\u001b[38;5;124mDownloading \u001b[39m\u001b[38;5;124m'\u001b[39m\u001b[38;5;241m+\u001b[39mfile_name\u001b[38;5;241m+\u001b[39m\u001b[38;5;124m'\u001b[39m\u001b[38;5;124m (file \u001b[39m\u001b[38;5;124m'\u001b[39m\u001b[38;5;241m+\u001b[39m\u001b[38;5;28mstr\u001b[39m(i\u001b[38;5;241m+\u001b[39m\u001b[38;5;241m1\u001b[39m)\u001b[38;5;241m+\u001b[39m\u001b[38;5;124m'\u001b[39m\u001b[38;5;124m of \u001b[39m\u001b[38;5;124m'\u001b[39m\u001b[38;5;241m+\u001b[39m\u001b[38;5;28mstr\u001b[39m(\u001b[38;5;28mlen\u001b[39m(file_urls))\u001b[38;5;241m+\u001b[39m\u001b[38;5;124m'\u001b[39m\u001b[38;5;124m)\u001b[39m\u001b[38;5;124m'\u001b[39m)\n\u001b[1;32m      9\u001b[0m     output_file \u001b[38;5;241m=\u001b[39m os\u001b[38;5;241m.\u001b[39mpath\u001b[38;5;241m.\u001b[39mjoin(download_folder,file_name)\n",
      "\u001b[0;31mFileNotFoundError\u001b[0m: [Errno 2] No such file or directory: '/Users/mike/Documents/Teaching/Courses/MS 274/Data/Wind'"
     ]
    }
   ],
   "source": [
    "for i in range(len(file_urls)):\n",
    "    url = file_urls[i]\n",
    "    \n",
    "    file_name = url.split('/')[-1]\n",
    "    if file_name not in os.listdir(download_folder):\n",
    "    \n",
    "        print('Downloading '+file_name+' (file '+str(i+1)+' of '+str(len(file_urls))+')')\n",
    "    \n",
    "        output_file = os.path.join(download_folder,file_name)\n",
    "    \n",
    "        with requests.get(url, stream=True, allow_redirects=True) as r:\n",
    "            r.raise_for_status()\n",
    "            with open(output_file, 'wb') as f:                   \n",
    "                for chunk in r.iter_content(chunk_size=8192):   \n",
    "                    f.write(chunk)"
   ]
  },
  {
   "cell_type": "code",
   "execution_count": null,
   "id": "f649c3b1-db71-4c1e-8374-1f88addb59f6",
   "metadata": {},
   "outputs": [],
   "source": []
  }
 ],
 "metadata": {
  "kernelspec": {
   "display_name": "ms274",
   "language": "python",
   "name": "ms274"
  },
  "language_info": {
   "codemirror_mode": {
    "name": "ipython",
    "version": 3
   },
   "file_extension": ".py",
   "mimetype": "text/x-python",
   "name": "python",
   "nbconvert_exporter": "python",
   "pygments_lexer": "ipython3",
   "version": "3.10.12"
  }
 },
 "nbformat": 4,
 "nbformat_minor": 5
}
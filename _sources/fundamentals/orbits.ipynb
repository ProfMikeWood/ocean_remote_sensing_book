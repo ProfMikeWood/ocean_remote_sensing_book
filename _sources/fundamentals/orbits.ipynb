{
 "cells": [
  {
   "cell_type": "markdown",
   "id": "d741b24b-f965-4aea-9fab-f94350797acc",
   "metadata": {},
   "source": [
    "# Orbits"
   ]
  },
  {
   "cell_type": "markdown",
   "id": "30ef7499-a467-41e6-b18b-183aee1c09d5",
   "metadata": {},
   "source": [
    "Under construction."
   ]
  },
  {
   "cell_type": "code",
   "execution_count": null,
   "id": "1309f00f-9028-458c-b0cb-8b0ffd0febfc",
   "metadata": {},
   "outputs": [],
   "source": []
  }
 ],
 "metadata": {
  "kernelspec": {
   "display_name": "ms274",
   "language": "python",
   "name": "ms274"
  },
  "language_info": {
   "codemirror_mode": {
    "name": "ipython",
    "version": 3
   },
   "file_extension": ".py",
   "mimetype": "text/x-python",
   "name": "python",
   "nbconvert_exporter": "python",
   "pygments_lexer": "ipython3",
   "version": "3.10.12"
  }
 },
 "nbformat": 4,
 "nbformat_minor": 5
}

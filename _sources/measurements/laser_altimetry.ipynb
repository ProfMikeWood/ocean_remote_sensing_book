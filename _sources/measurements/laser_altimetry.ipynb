{
 "cells": [
  {
   "cell_type": "markdown",
   "id": "c6a954da",
   "metadata": {},
   "source": [
    "# Laser Altimetry"
   ]
  },
  {
   "cell_type": "code",
   "execution_count": null,
   "id": "99a9379e",
   "metadata": {},
   "outputs": [],
   "source": []
  }
 ],
 "metadata": {
  "kernelspec": {
   "display_name": "ms274",
   "language": "python",
   "name": "ms274"
  },
  "language_info": {
   "codemirror_mode": {
    "name": "ipython",
    "version": 3
   },
   "file_extension": ".py",
   "mimetype": "text/x-python",
   "name": "python",
   "nbconvert_exporter": "python",
   "pygments_lexer": "ipython3",
   "version": "3.10.12"
  }
 },
 "nbformat": 4,
 "nbformat_minor": 5
}

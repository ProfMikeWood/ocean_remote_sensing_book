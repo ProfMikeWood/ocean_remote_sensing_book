{
 "cells": [
  {
   "cell_type": "markdown",
   "id": "34989e05-15a5-4759-9930-54d255ed56ff",
   "metadata": {},
   "source": [
    "# Downloading Data using NSIDC\n",
    "\n",
    "This notebook provides the functionality to download a set of files from the National Snow and Ice Data Center. It is primarily designed for downloading ICESat and/or ICESat-2 data but should theoretically work with any NSIDC data set searchable with the `cmr_search` function from scripts provided by NSIDC.\n",
    "\n",
    "### Import the modules used in this notebook\n",
    "This notebook is set up to use functions provided in the download scripts from NSIDC. These functions are provided in a file called `nsidc.py` and should be stored in the same folder as this Jupyter notebook. Import this module below:"
   ]
  },
  {
   "cell_type": "code",
   "execution_count": null,
   "id": "3cb9f554-076d-4cf0-91cb-a6d7b2a79b71",
   "metadata": {},
   "outputs": [],
   "source": [
    "# import the nsidc module\n",
    "import nsidc"
   ]
  },
  {
   "cell_type": "markdown",
   "id": "2ca1a568-db05-43a6-9855-6d4ae4e9bf1a",
   "metadata": {},
   "source": [
    "### User Inputs\n",
    "Edit this section to define your search query."
   ]
  },
  {
   "cell_type": "code",
   "execution_count": null,
   "id": "33a3e5e9",
   "metadata": {},
   "outputs": [],
   "source": [
    "# define an output folder\n",
    "data_path = ''\n",
    "\n",
    "# define a short name\n",
    "short_name = 'ATL08'\n",
    "# short_name = 'ATL03'\n",
    "\n",
    "# define a version\n",
    "version = '006'\n",
    "\n",
    "# define the start and end times\n",
    "time_start = '2018-10-14T00:00:00Z'\n",
    "time_end = '2023-11-04T18:43:03Z'\n",
    "\n",
    "# make a list of points to define the search area\n",
    "# example: Grand Canyon\n",
    "min_x = -116.23\n",
    "max_x = -114.9\n",
    "min_y = 34.9\n",
    "max_y = 35.8\n",
    "\n",
    "# example: Great Barrier Reef\n",
    "# min_y = -18.4798\n",
    "# min_x = 146.6199\n",
    "# max_y = -18.1567\n",
    "# max_x = 146.9104\n",
    "\n",
    "# choose whether to print out the status of the search/download\n",
    "quiet = False \n",
    "\n",
    "# choose whether to force the download (overwrite existing files)\n",
    "force = False\n",
    "\n",
    "# cap the number of files to download - particularly useful\n",
    "# when testing files or searching an area\n",
    "download_cap = 3\n",
    "\n",
    "# filter by ref track track\n",
    "# filename convetion ATL03_[yyyymmdd][hhmmss]_[ttttccss]_[vvv_rr].h5\n",
    "# tttt = track number\n",
    "# cc = cycle\n",
    "# ss = segment\n",
    "filename_filter = '*_0219*'\n",
    "# filename_filter = '*_0139*'\n",
    "# filename_filter = ''"
   ]
  },
  {
   "cell_type": "markdown",
   "id": "bbb87e58-ed5a-43ff-887b-d77634099782",
   "metadata": {},
   "source": [
    "### Creating the Polygon\n",
    "If you'd like to use the search polygon, create it here; otherwise, just use an empty string (first line):"
   ]
  },
  {
   "cell_type": "code",
   "execution_count": null,
   "id": "ff32f7a7",
   "metadata": {},
   "outputs": [],
   "source": [
    "polygon = ''\n",
    "# polygon += str(min_x)+','+str(min_y)+','\n",
    "# polygon += str(max_x)+','+str(min_y)+','\n",
    "# polygon += str(max_x)+','+str(max_y)+','\n",
    "# polygon += str(min_x)+','+str(max_y)+','\n",
    "# polygon += str(min_x)+','+str(min_y)"
   ]
  },
  {
   "cell_type": "markdown",
   "id": "775db90b",
   "metadata": {},
   "source": [
    "### Query NSIDC for a list of URLs matching the criteria"
   ]
  },
  {
   "cell_type": "code",
   "execution_count": null,
   "id": "3220dc54-ada5-4a9e-ba28-aaccf2e0508e",
   "metadata": {},
   "outputs": [],
   "source": [
    "url_list = nsidc.cmr_search(short_name, version, time_start, time_end,\n",
    "                                  polygon=polygon, quiet=quiet, filename_filter=filename_filter)"
   ]
  },
  {
   "cell_type": "markdown",
   "id": "bde41498",
   "metadata": {},
   "source": [
    "#### Filter the url list to only contain `h5` files\n",
    "When you query the files, you may pick up additional files, such as `xml` files. The code block below will filter out extraneous files."
   ]
  },
  {
   "cell_type": "code",
   "execution_count": null,
   "id": "84915f14",
   "metadata": {},
   "outputs": [],
   "source": [
    "h5_files = []\n",
    "for file_name in url_list:\n",
    "    if file_name[-3:]=='.h5':\n",
    "        h5_files.append(file_name)"
   ]
  },
  {
   "cell_type": "markdown",
   "id": "47088c64",
   "metadata": {},
   "source": [
    "#### Subset to the number of files indicated above\n",
    "Use the download cap to limit the number of files that are downloaded."
   ]
  },
  {
   "cell_type": "code",
   "execution_count": null,
   "id": "9340a9cb",
   "metadata": {},
   "outputs": [],
   "source": [
    "h5_files = h5_files[:download_cap]"
   ]
  },
  {
   "cell_type": "markdown",
   "id": "388bb477-7ce0-4b4f-8671-ff70f2045dfa",
   "metadata": {},
   "source": [
    "### Run the downloading script\n",
    "The `run` method will download the files found in the PODAAC database. Nothing will print in the Jupyter notebook but the files will show up in the download folder you created above."
   ]
  },
  {
   "cell_type": "code",
   "execution_count": null,
   "id": "39968864-ab6a-4495-83e3-ce040d85b42a",
   "metadata": {},
   "outputs": [],
   "source": [
    "# run the downloading script\n",
    "nsidc.cmr_download(h5_files, data_path, force=force, quiet=quiet)"
   ]
  }
 ],
 "metadata": {
  "kernelspec": {
   "display_name": "ms274",
   "language": "python",
   "name": "ms274"
  },
  "language_info": {
   "codemirror_mode": {
    "name": "ipython",
    "version": 3
   },
   "file_extension": ".py",
   "mimetype": "text/x-python",
   "name": "python",
   "nbconvert_exporter": "python",
   "pygments_lexer": "ipython3",
   "version": "3.10.12"
  }
 },
 "nbformat": 4,
 "nbformat_minor": 5
}
